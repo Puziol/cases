{
 "cells": [
  {
   "cell_type": "code",
   "execution_count": null,
   "id": "69c7a145-db34-47e8-b6d7-29173d1d43c3",
   "metadata": {
    "tags": []
   },
   "outputs": [],
   "source": [
    "import pandas as pd\n",
    "from nltk.util import ngrams\n",
    "from collections import Counter"
   ]
  },
  {
   "cell_type": "code",
   "execution_count": null,
   "id": "f0671e58-01d5-4382-b753-8c99b386ad9b",
   "metadata": {
    "tags": []
   },
   "outputs": [],
   "source": [
    "# Carregamento dos dados\n",
    "path = \"_Data__QuintoAndar_-_Business_Case__1_.xlsx\"\n",
    "sheet_name = \"Tenant reviews given after prop\""
   ]
  },
  {
   "cell_type": "code",
   "execution_count": null,
   "id": "c235a57f-9892-43f5-9885-8efebf12ce5d",
   "metadata": {
    "tags": []
   },
   "outputs": [],
   "source": [
    "# Criação do dataframe e verificação\n",
    "dfTenant_Reviews = pd.read_excel(path, sheet_name=sheet_name)\n",
    "dfTenant_Reviews.sample()"
   ]
  },
  {
   "cell_type": "code",
   "execution_count": null,
   "id": "f9cb14d6-50f6-4888-b5ab-e5de495f9ecd",
   "metadata": {
    "tags": []
   },
   "outputs": [],
   "source": [
    "dfTenant_Reviews = dfTenant_Reviews.drop(columns=[\"Unnamed: 18\", \"Unnamed: 19\"])\n",
    "dfTenant_Reviews = dfTenant_Reviews.rename(columns={\"Others.1\": \"Comments\"})\n",
    "dfTenant_Reviews.sample()"
   ]
  },
  {
   "cell_type": "code",
   "execution_count": null,
   "id": "292b0165-4f41-4498-a094-69b004daf69e",
   "metadata": {
    "tags": []
   },
   "outputs": [],
   "source": [
    "\n",
    "# Pré-processamento dos comentários\n",
    "def preprocess_comments(comment):\n",
    "    if isinstance(comment, str):\n",
    "        comment = comment.lower()\n",
    "        comment = ''.join(e for e in comment if e.isalnum() or e.isspace())\n",
    "    else:\n",
    "        comment = ''\n",
    "    return comment\n",
    "\n",
    "# Aplicando pré-processamento nos comentários\n",
    "dfTenant_Reviews[\"Comments\"] = dfTenant_Reviews[\"Comments\"].apply(preprocess_comments)\n",
    "\n",
    "# Função para tokenização em conjuntos de 3 palavras\n",
    "def get_trigrams(comment):\n",
    "    words = comment.split()\n",
    "    trigrams = list(ngrams(words, 3))\n",
    "    return trigrams\n",
    "\n",
    "# Criando DataFrames para as categorias de review 4 e 5, 1 e 2, e geral\n",
    "df_reviews_4_5 = dfTenant_Reviews[dfTenant_Reviews[\"Review\"].isin([4, 5])]\n",
    "df_reviews_1_2 = dfTenant_Reviews[dfTenant_Reviews[\"Review\"].isin([1, 2])]\n",
    "\n",
    "# Tokenização em conjuntos para as categorias de review 4 e 5\n",
    "trigram_list_reviews_4_5 = df_reviews_4_5[\"Comments\"].apply(get_trigrams).tolist()\n",
    "trigrams_reviews_4_5 = [trigram for sublist in trigram_list_reviews_4_5 for trigram in sublist]\n",
    "\n",
    "# Tokenização em conjuntos para as categorias de review 1 e 2\n",
    "trigram_list_reviews_1_2 = df_reviews_1_2[\"Comments\"].apply(get_trigrams).tolist()\n",
    "trigrams_reviews_1_2 = [trigram for sublist in trigram_list_reviews_1_2 for trigram in sublist]\n",
    "\n",
    "# Tokenização em conjuntos para o geral\n",
    "trigram_list_overral = dfTenant_Reviews[\"Comments\"].apply(get_trigrams).tolist()\n",
    "trigrams_overral = [trigram for sublist in trigram_list_overral for trigram in sublist]\n",
    "\n",
    "# Contagem dos conjuntos para as categorias de review 4 e 5\n",
    "trigram_counts_reviews_4_5 = Counter(trigrams_reviews_4_5)\n",
    "\n",
    "# Contagem dos conjuntos para as categorias de review 1 e 2\n",
    "trigram_counts_reviews_1_2 = Counter(trigrams_reviews_1_2)\n",
    "\n",
    "# Contagem dos conjuntos para o geral\n",
    "trigram_counts_overral = Counter(trigrams_overral)\n",
    "\n",
    "# 10 conjuntos mais frequentes para as categorias de review 4 e 5\n",
    "top_10_trigrams_reviews_4_5 = trigram_counts_reviews_4_5.most_common(10)\n",
    "\n",
    "# 10 conjuntos mais frequentes para as categorias de review 1 e 2\n",
    "top_10_trigrams_reviews_1_2 = trigram_counts_reviews_1_2.most_common(10)\n",
    "\n",
    "# 10 conjuntos mais frequentes para o geral\n",
    "top_10_trigrams_overral = trigram_counts_overral.most_common(10)\n",
    "\n",
    "# Criando DataFrames para os resultados\n",
    "df_top_10_trigrams_reviews_4_5 = pd.DataFrame(top_10_trigrams_reviews_4_5, columns=[\"Trigram\", \"Frequency (4 and 5)\"])\n",
    "df_top_10_trigrams_reviews_1_2 = pd.DataFrame(top_10_trigrams_reviews_1_2, columns=[\"Trigram\", \"Frequency (1 and 2)\"])\n",
    "df_top_10_trigrams_overral = pd.DataFrame(top_10_trigrams_overral, columns=[\"Trigram\", \"Frequency (Overall)\"])\n"
   ]
  },
  {
   "cell_type": "code",
   "execution_count": null,
   "id": "4e2127f8-ace9-48d3-a697-769c91838960",
   "metadata": {
    "tags": []
   },
   "outputs": [],
   "source": [
    "df_top_10_trigrams_reviews_4_5"
   ]
  },
  {
   "cell_type": "code",
   "execution_count": null,
   "id": "f079b5cd-e532-444f-a7e7-543f30f3964c",
   "metadata": {
    "tags": []
   },
   "outputs": [],
   "source": [
    "df_top_10_trigrams_reviews_1_2"
   ]
  },
  {
   "cell_type": "code",
   "execution_count": null,
   "id": "4b1f93fe-3648-4ce4-bfc8-3aa4655ce877",
   "metadata": {
    "tags": []
   },
   "outputs": [],
   "source": [
    "df_top_10_trigrams_overral"
   ]
  }
 ],
 "metadata": {
  "kernelspec": {
   "display_name": "Python 3 (ipykernel)",
   "language": "python",
   "name": "python3"
  },
  "language_info": {
   "codemirror_mode": {
    "name": "ipython",
    "version": 3
   },
   "file_extension": ".py",
   "mimetype": "text/x-python",
   "name": "python",
   "nbconvert_exporter": "python",
   "pygments_lexer": "ipython3",
   "version": "3.11.3"
  }
 },
 "nbformat": 4,
 "nbformat_minor": 5
}
